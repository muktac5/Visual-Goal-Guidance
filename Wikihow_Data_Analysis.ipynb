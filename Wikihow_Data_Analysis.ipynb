{
  "nbformat": 4,
  "nbformat_minor": 0,
  "metadata": {
    "colab": {
      "provenance": []
    },
    "kernelspec": {
      "name": "python3",
      "display_name": "Python 3"
    },
    "language_info": {
      "name": "python"
    }
  },
  "cells": [
    {
      "cell_type": "code",
      "source": [
        "from google.colab import drive\n",
        "drive.mount('/content/drive')"
      ],
      "metadata": {
        "colab": {
          "base_uri": "https://localhost:8080/"
        },
        "id": "hgo7llIfmC14",
        "outputId": "b5bfd549-a590-410d-fe9d-a7e385229695"
      },
      "execution_count": null,
      "outputs": [
        {
          "output_type": "stream",
          "name": "stdout",
          "text": [
            "Drive already mounted at /content/drive; to attempt to forcibly remount, call drive.mount(\"/content/drive\", force_remount=True).\n"
          ]
        }
      ]
    },
    {
      "cell_type": "code",
      "execution_count": null,
      "metadata": {
        "id": "FnoUvaKVvszD"
      },
      "outputs": [],
      "source": [
        "project_path = \"/content/drive/MyDrive/682-Project/VGSI\" # use the shared folder https://drive.google.com/drive/u/1/folders/1hjjcNSUSqv8AbA7R-5lIKmui-ySCEWJw\n",
        "import os\n",
        "import pickle\n",
        "from tqdm import tqdm\n",
        "import numpy as np\n",
        "from keras.layers import Dense, Concatenate, Input, Dropout, Bidirectional, LSTM, Dropout\n",
        "from keras.models import Sequential, Model\n",
        "from keras.optimizers import Adam\n",
        "from keras.regularizers import l2\n",
        "from keras import backend as K\n",
        "from keras.layers import Layer, InputSpec\n",
        "from keras.layers import Lambda\n",
        "import tensorflow as tf"
      ]
    },
    {
      "cell_type": "code",
      "source": [
        "# Samples\n",
        "sample_multi = pickle.load(open(project_path + \"/samples/wikihow/random_sampling/train_goal_random.p\", \"rb\"))\n",
        "test_sample_multi = pickle.load(open(project_path + \"/samples/wikihow/random_sampling/test_goal_random.p\", \"rb\"))\n",
        "train_sample_multi = sample_multi[:-1000]\n",
        "val_sample_multi = sample_multi[-1000:]"
      ],
      "metadata": {
        "id": "b-ZRaCj4wSdT"
      },
      "execution_count": null,
      "outputs": []
    },
    {
      "cell_type": "code",
      "source": [
        "# Features\n",
        "encoded_goals = pickle.load(open(project_path + \"/features/wikihow/encoded_goals.p\", \"rb\" ))\n",
        "print(\"goal loaded!\")\n",
        "encoded_images_1 = pickle.load(open(project_path + \"/features/wikihow/encoded_images_1.p\", \"rb\" ))\n",
        "print(\"image loaded!\")\n",
        "encoded_images_2 = pickle.load(open(project_path +  \"/features/wikihow/encoded_images_2.p\", \"rb\" ))\n",
        "print(\"image2 loaded!\")\n",
        "def Merge(dict1, dict2):\n",
        "    res = {**dict1, **dict2}\n",
        "    return res\n",
        "encoded_images = Merge(encoded_images_1, encoded_images_2)"
      ],
      "metadata": {
        "colab": {
          "base_uri": "https://localhost:8080/"
        },
        "id": "if0BILRL4WFe",
        "outputId": "1ae23daa-2f9c-4f12-8e44-954b4c6ad930"
      },
      "execution_count": null,
      "outputs": [
        {
          "output_type": "stream",
          "name": "stdout",
          "text": [
            "goal loaded!\n",
            "image loaded!\n",
            "image2 loaded!\n"
          ]
        }
      ]
    },
    {
      "cell_type": "code",
      "source": [
        "import json\n",
        "goals = []\n",
        "with open('/content/drive/MyDrive/682-Project/VGSI/WikihowText_data.json', 'r') as file:\n",
        "    for line in file:\n",
        "        goals.append(json.loads(line))"
      ],
      "metadata": {
        "id": "P3o8EihmCzgt"
      },
      "execution_count": null,
      "outputs": []
    },
    {
      "cell_type": "code",
      "source": [
        "len(list(encoded_goals.keys()))"
      ],
      "metadata": {
        "colab": {
          "base_uri": "https://localhost:8080/"
        },
        "id": "CGiae_pJDCWu",
        "outputId": "8a12310f-620f-464e-e864-7f83d6ad0dac"
      },
      "execution_count": null,
      "outputs": [
        {
          "output_type": "execute_result",
          "data": {
            "text/plain": [
              "53187"
            ]
          },
          "metadata": {},
          "execution_count": 9
        }
      ]
    },
    {
      "cell_type": "code",
      "source": [
        "len(goals)"
      ],
      "metadata": {
        "colab": {
          "base_uri": "https://localhost:8080/"
        },
        "id": "jHS4LO62DC_r",
        "outputId": "61fc23f9-9582-4fb3-f175-cab509e088e9"
      },
      "execution_count": null,
      "outputs": [
        {
          "output_type": "execute_result",
          "data": {
            "text/plain": [
              "53189"
            ]
          },
          "metadata": {},
          "execution_count": 10
        }
      ]
    },
    {
      "cell_type": "code",
      "source": [
        "goals[3]"
      ],
      "metadata": {
        "id": "t2xnAgXRJKpp",
        "outputId": "78543460-e15d-42d6-ef90-65d481cfa10c",
        "colab": {
          "base_uri": "https://localhost:8080/"
        }
      },
      "execution_count": null,
      "outputs": [
        {
          "output_type": "execute_result",
          "data": {
            "text/plain": [
              "{'file_id': '100021',\n",
              " 'goal': 'How to Make a Dress',\n",
              " 'goal_description': \"Ever seen a really gorgeous dress on the runway or in those awesome fashion magazines you couldn't afford? Or maybe you just dream of a beautiful dress and could never find it? Here are some basic tips on how to make your own dress, as well as links to specific articles with more detailed instructions on various tips and techniques for dressmaking.\",\n",
              " 'category_hierarchy': ['Personal Care and Style',\n",
              "  'Clothing',\n",
              "  'Clothes by Type',\n",
              "  'Dresses and Skirts'],\n",
              " 'methods': [{'name': 'Starting Your Dress',\n",
              "   'steps': [{'headline': 'Choose your fabric.',\n",
              "     'description': 'Any fabric can be used for a dress, although if it is your first time try working with an easy natural or cotton blend. Look for pretty fabrics that meet your color, pattern, and texture needs. Using silky or heavy fabrics are difficult to sew without a bit of practice. Additionally, choose a fabric that is thick enough that it won’t require two layers or a slip. You will need between 2–3 yards (1.8–2.7 m) of fabric total depending on your size and the length of the dress. Try using a large over sized t-shirt as the base for your dress. These can be found in thrift stores or even in the back of your own closet. Get creative with your fabric choice and try using a sheet or curtain as the fabric for your dress. You can thrift for pretty vintage versions of these fabrics if you don’t have any at home you’re willing to cut up.',\n",
              "     'img': 'https://www.wikihow.com/images/thumb/0/06/Make-a-Dress-Step-1-Version-4.jpg/v4-460px-Make-a-Dress-Step-1-Version-4.jpg',\n",
              "     'img_license': 'Creative Commons',\n",
              "     'step_id': '100021_0_0'},\n",
              "    {'headline': 'Wash the fabric.',\n",
              "     'description': \"To remove any wrinkles or stains and to preshrink fabric before sewing it's important to wash your fabric. After washing and drying, use an iron to smooth it out and prepare it for sewing.\",\n",
              "     'img': 'https://www.wikihow.com/images/thumb/1/1b/Make-a-Dress-Step-2-Version-4.jpg/v4-460px-Make-a-Dress-Step-2-Version-4.jpg',\n",
              "     'img_license': 'Creative Commons',\n",
              "     'step_id': '100021_0_1'},\n",
              "    {'headline': 'Select a pattern.',\n",
              "     'description': 'Dresses are one of the more complicated projects to start with, and are easiest when made using a dress pattern. Patterns are the specific measurements and shapes the different parts of your dress will need to be cut in. These are available for free or for a small price online or in fabric/craft stores. Choose a pattern that is the style and shape you would like, in the correct size for your body type.',\n",
              "     'img': 'https://www.wikihow.com/images/thumb/b/bb/Make-a-Dress-Step-3-Version-4.jpg/v4-460px-Make-a-Dress-Step-3-Version-4.jpg',\n",
              "     'img_license': 'Creative Commons',\n",
              "     'step_id': '100021_0_2'},\n",
              "    {'headline': 'Make a faux-pattern.',\n",
              "     'description': 'If you don’t want to use a dress pattern to make your dress, you can create a mock pattern by using a dress you already own. Find a dress you like and that fits you well, and use the outline of this to create your pattern. Your final dress will be in the same style of the dress you used to trace.',\n",
              "     'img': 'https://www.wikihow.com/images/thumb/6/66/Make-a-Dress-Step-4-Version-4.jpg/v4-460px-Make-a-Dress-Step-4-Version-4.jpg',\n",
              "     'img_license': 'Creative Commons',\n",
              "     'step_id': '100021_0_3'},\n",
              "    {'headline': 'Take your measurements.',\n",
              "     'description': 'If you are using a dress pattern, follow the guide to take your measurements with a soft tape measure. To create a dress using another dress as the pattern, fold it in half lengthwise. Place it over your fabric (also folded lengthwise) and trace around the outside. You can change the total length of your dress using either a pattern or your own measurements by measuring from your hips to the desired end point, and making this alteration to your fabric.',\n",
              "     'img': 'https://www.wikihow.com/images/thumb/f/fd/Make-a-Dress-Step-5-Version-4.jpg/v4-460px-Make-a-Dress-Step-5-Version-4.jpg',\n",
              "     'img_license': 'Creative Commons',\n",
              "     'step_id': '100021_0_4'}],\n",
              "   'method_id': '100021_0'},\n",
              "  {'name': 'Making Your Dress',\n",
              "   'steps': [{'headline': 'Cut your fabric.',\n",
              "     'description': 'Lay your fabric flat (or folded in half, if the pattern directs you to do so) and place your pattern over the top. Follow your traced lines and the guide to cut out your fabric in the matching shapes. If you are using a dress for the pattern use your traced outline of half the dress, drawn after being folded in half and placed along the folded edge. Cut along this line, and unfold the fabric to expose a complete front of your dress. Add ½ inch of extra fabric around the edges of the dress for seam allowances. Most patterns already have this included in their measurements, but you will need to keep this in mind if you are tracing a dress for your pattern. If you want to add sleeves to your dress, these will need to be cut as separate pieces from the body of the dress. Cut your dress fabric in a tank-style top and then sew your sleeves on later. Be sure to cut the fabric for the back of this dress as well at this point, using the same method as you did to cut the front.',\n",
              "     'img': 'https://www.wikihow.com/images/thumb/d/df/Make-a-Dress-Step-6-Version-4.jpg/v4-460px-Make-a-Dress-Step-6-Version-4.jpg',\n",
              "     'img_license': 'Creative Commons',\n",
              "     'step_id': '100021_1_0'},\n",
              "    {'headline': 'Begin sewing.',\n",
              "     'description': 'Follow the sewing directions on your pattern. Typically the sides of the dress will be sewn first. Turn your fabric inside-out and fold ¼ of an inch over on either side, using an iron to flatten it out. Then, use a zigzag stitch to sew the front and back together, and a top stitch to attach your newly formed seam to the body of the dress. The top stitch will help the fabric to lay flat along the seam and add a more professional look to your dress. Follow any specific directions on your pattern for sewing additional sections of your dress. If your pattern directs you to sew something other than the sides first, do so.',\n",
              "     'img': 'https://www.wikihow.com/images/thumb/0/0c/Make-a-Dress-Step-7-Version-4.jpg/v4-460px-Make-a-Dress-Step-7-Version-4.jpg',\n",
              "     'img_license': 'Creative Commons',\n",
              "     'step_id': '100021_1_1'},\n",
              "    {'headline': 'Sew the neckline.',\n",
              "     'description': 'For a simple neckline, fold over ¼ inch of fabric along the edge and iron it flat. Use a straight stitch along the collar to sew the edges in place and keep them from fraying. You can adjust how deep the neckline plunges by measuring the distance from your waist to the desired area on your bust, and adjusting your fabric accordingly.',\n",
              "     'img': 'https://www.wikihow.com/images/thumb/b/bc/Make-a-Dress-Step-8-Version-4.jpg/v4-460px-Make-a-Dress-Step-8-Version-4.jpg',\n",
              "     'img_license': 'Creative Commons',\n",
              "     'step_id': '100021_1_2'},\n",
              "    {'headline': 'Add the hem.',\n",
              "     'description': \"On the bottom of the dress, fold over ¼ of an inch of fabric and iron it down flat. If you have one available, use a serger to secure the ends and keep them from unraveling. Then, use a straight stitch to attach the folded edge to the bottom of the dress, holding it in place. So you won't make a mistake.\",\n",
              "     'img': 'https://www.wikihow.com/images/thumb/6/6e/Make-a-Dress-Step-9-Version-3.jpg/v4-460px-Make-a-Dress-Step-9-Version-3.jpg',\n",
              "     'img_license': 'Creative Commons',\n",
              "     'step_id': '100021_1_3'},\n",
              "    {'headline': 'Finish off your dress.',\n",
              "     'description': 'If you want, add a zipper to the side or back of your dress to allow for easier opening/closure. You can also choose to add a lace overlay, ruffles, trim, or beading to your dress for an added touch. It’s your dress, and your opportunity to show your style! Do so as you please.',\n",
              "     'img': 'https://www.wikihow.com/images/thumb/a/ac/Make-a-Dress-Step-10-Version-3.jpg/v4-460px-Make-a-Dress-Step-10-Version-3.jpg',\n",
              "     'img_license': 'Creative Commons',\n",
              "     'step_id': '100021_1_4'}],\n",
              "   'method_id': '100021_1'},\n",
              "  {'name': 'Making Other Styles of Dresses',\n",
              "   'steps': [{'headline': 'Use a fitted bedsheet to make a dress.',\n",
              "     'description': 'If you have a nice fitted bedsheet laying around or you want to save money on fabric yardage, learn how to make a dress out of one. The elastic on the sheet will add a secure band to your dress, while the size of the sheet gives you plenty of material to work with for cheap.',\n",
              "     'img': 'https://www.wikihow.com/images/thumb/4/43/Make-a-Dress-Step-11-Version-3.jpg/v4-460px-Make-a-Dress-Step-11-Version-3.jpg',\n",
              "     'img_license': 'Creative Commons',\n",
              "     'step_id': '100021_2_0'},\n",
              "    {'headline': 'Expand your favorite skirt into a dress.',\n",
              "     'description': \"If you want to make a cute dress fast, combine a skirt with a pretty shirt by following this easy tutorial. You can even choose to make your own top with a basic fabric and sewing it onto your skirt. This is an extra-quick project if you're in a bind.\",\n",
              "     'img': 'https://www.wikihow.com/images/thumb/a/ab/Make-a-Dress-Step-12-Version-3.jpg/v4-460px-Make-a-Dress-Step-12-Version-3.jpg',\n",
              "     'img_license': 'Creative Commons',\n",
              "     'step_id': '100021_2_1'},\n",
              "    {'headline': 'Make a 1920s flapper dress.',\n",
              "     'description': \"Whether you simply like the 20's dress style or you're looking for a Halloween or costume party dress, making your own flapper dress is an easy sewing project. Combine a basic dress form with a few layers of fringe and a little sewing skills, and voila! You'll be ready for the greatest of Gatsby's parties.\",\n",
              "     'img': 'https://www.wikihow.com/images/thumb/1/1d/Make-a-Dress-Step-13-Version-3.jpg/v4-460px-Make-a-Dress-Step-13-Version-3.jpg',\n",
              "     'img_license': 'Creative Commons',\n",
              "     'step_id': '100021_2_2'},\n",
              "    {'headline': 'Make your own prom dress.',\n",
              "     'description': 'Save some money and make your dream dress to your own exact specifications. Find a pretty pattern, the perfect fabric, and churn out your own evening gown at home! People will be dazzled with your style and your crafty sewing abilities.',\n",
              "     'img': 'https://www.wikihow.com/images/thumb/e/ec/Make-a-Dress-Step-14-Version-3.jpg/v4-460px-Make-a-Dress-Step-14-Version-3.jpg',\n",
              "     'img_license': 'Creative Commons',\n",
              "     'step_id': '100021_2_3'}],\n",
              "   'method_id': '100021_2'}]}"
            ]
          },
          "metadata": {},
          "execution_count": 12
        }
      ]
    },
    {
      "cell_type": "code",
      "source": [
        "goal_texts=[goal['goal'] for goal in goals]"
      ],
      "metadata": {
        "id": "QwJ7KddkDMXp"
      },
      "execution_count": null,
      "outputs": []
    },
    {
      "cell_type": "code",
      "source": [
        "encoded_goal_texts=list(encoded_goals.keys())"
      ],
      "metadata": {
        "id": "K_TC_7sJFyF3"
      },
      "execution_count": null,
      "outputs": []
    },
    {
      "cell_type": "code",
      "source": [
        "missing_goals=list(sorted(set(goal_texts) - set(encoded_goal_texts)))"
      ],
      "metadata": {
        "id": "QojfnQjjGSAT"
      },
      "execution_count": null,
      "outputs": []
    },
    {
      "cell_type": "code",
      "source": [
        "missing_goals"
      ],
      "metadata": {
        "colab": {
          "base_uri": "https://localhost:8080/"
        },
        "id": "-x4tgVfSGbw5",
        "outputId": "5aa37267-3b95-4c45-8864-a92f55b30149"
      },
      "execution_count": null,
      "outputs": [
        {
          "output_type": "execute_result",
          "data": {
            "text/plain": [
              "[]"
            ]
          },
          "metadata": {},
          "execution_count": 22
        }
      ]
    },
    {
      "cell_type": "code",
      "source": [],
      "metadata": {
        "id": "HNT-ImiKGwKA"
      },
      "execution_count": null,
      "outputs": []
    }
  ]
}