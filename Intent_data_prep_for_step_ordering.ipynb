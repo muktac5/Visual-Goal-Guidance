{
  "nbformat": 4,
  "nbformat_minor": 0,
  "metadata": {
    "colab": {
      "provenance": []
    },
    "kernelspec": {
      "name": "python3",
      "display_name": "Python 3"
    },
    "language_info": {
      "name": "python"
    }
  },
  "cells": [
    {
      "cell_type": "code",
      "execution_count": null,
      "metadata": {
        "colab": {
          "base_uri": "https://localhost:8080/"
        },
        "id": "nrLQ1FTCoR6D",
        "outputId": "07d2dbdc-4bd5-4e7b-e2b8-727329fc7577"
      },
      "outputs": [
        {
          "output_type": "stream",
          "name": "stdout",
          "text": [
            "Mounted at /content/drive\n"
          ]
        }
      ],
      "source": [
        "from google.colab import drive\n",
        "drive.mount('/content/drive')"
      ]
    },
    {
      "cell_type": "code",
      "source": [
        "# !pip install pandas"
      ],
      "metadata": {
        "colab": {
          "base_uri": "https://localhost:8080/"
        },
        "id": "vyftBsrNohLU",
        "outputId": "43eb8411-966b-40be-962d-676fe590f44e"
      },
      "execution_count": null,
      "outputs": [
        {
          "output_type": "stream",
          "name": "stdout",
          "text": [
            "Requirement already satisfied: pandas in /usr/local/lib/python3.10/dist-packages (1.5.3)\n",
            "Requirement already satisfied: python-dateutil>=2.8.1 in /usr/local/lib/python3.10/dist-packages (from pandas) (2.8.2)\n",
            "Requirement already satisfied: pytz>=2020.1 in /usr/local/lib/python3.10/dist-packages (from pandas) (2023.3.post1)\n",
            "Requirement already satisfied: numpy>=1.21.0 in /usr/local/lib/python3.10/dist-packages (from pandas) (1.23.5)\n",
            "Requirement already satisfied: six>=1.5 in /usr/local/lib/python3.10/dist-packages (from python-dateutil>=2.8.1->pandas) (1.16.0)\n"
          ]
        }
      ]
    },
    {
      "cell_type": "code",
      "source": [
        "import json\n",
        "goals = []\n",
        "with open('/content/drive/MyDrive/cs682/project/VGSI/WikihowText_data.json', 'r') as file:\n",
        "    for line in file:\n",
        "        goals.append(json.loads(line))"
      ],
      "metadata": {
        "id": "XvdHvYoFoWJm"
      },
      "execution_count": null,
      "outputs": []
    },
    {
      "cell_type": "code",
      "source": [
        "print(len(goals))"
      ],
      "metadata": {
        "colab": {
          "base_uri": "https://localhost:8080/"
        },
        "id": "gFw27PhoxSJa",
        "outputId": "294ebb86-596e-4694-f80d-db0498be832a"
      },
      "execution_count": null,
      "outputs": [
        {
          "output_type": "stream",
          "name": "stdout",
          "text": [
            "53189\n"
          ]
        }
      ]
    },
    {
      "cell_type": "code",
      "source": [
        "train_goals = goals[:5000]\n",
        "val_goals = goals[5000:5500]"
      ],
      "metadata": {
        "id": "0krswy-BxbcX"
      },
      "execution_count": null,
      "outputs": []
    },
    {
      "cell_type": "code",
      "source": [
        "count = 0;\n",
        "json_data = []\n",
        "for goal in train_goals:\n",
        "  common_goal = goal['goal']\n",
        "  method = goal['methods'][0]\n",
        "  for i in range(len(method['steps'])):\n",
        "    for j in range(len(method['steps'])):\n",
        "      if i<j:\n",
        "        step1 = method['steps'][i]['headline']\n",
        "        step2 = method['steps'][j]['headline']\n",
        "        # print(step1,step2)\n",
        "        count = count+1\n",
        "        temp_json = {}\n",
        "        temp_json[\"\"] = (count)\n",
        "        temp_json[\"video-id\"] = (\"xxx\")\n",
        "        temp_json[\"fold-ind\"] = (count)\n",
        "        temp_json[\"startphrase\"] = (\"xxx\")\n",
        "        temp_json[\"sent1\"] = (\"xxx\")\n",
        "        temp_json[\"sent2\"] = (common_goal)\n",
        "        temp_json[\"gold-source\"] = (\"xxx\")\n",
        "        temp_json[\"ending0\"] = (step1)\n",
        "        temp_json[\"ending1\"] = (step2)\n",
        "        temp_json[\"ending2\"] = (\"\")\n",
        "        temp_json[\"ending3\"] = (\"\")\n",
        "        temp_json[\"label\"] = (0)\n",
        "        json_data.append(temp_json)\n",
        "        # print(len(json_data))\n"
      ],
      "metadata": {
        "id": "1JHfune4tknk"
      },
      "execution_count": null,
      "outputs": []
    },
    {
      "cell_type": "code",
      "source": [
        "print(count)"
      ],
      "metadata": {
        "colab": {
          "base_uri": "https://localhost:8080/"
        },
        "id": "oZdX8tYMtq5v",
        "outputId": "5a669cb0-8eea-4a7a-bc98-34d5c0b87169"
      },
      "execution_count": null,
      "outputs": [
        {
          "output_type": "stream",
          "name": "stdout",
          "text": [
            "5696\n"
          ]
        }
      ]
    },
    {
      "cell_type": "code",
      "source": [
        "count = 0;\n",
        "json_data = []\n",
        "for goal in val_goals:\n",
        "  common_goal = goal['goal']\n",
        "  method = goal['methods'][0]\n",
        "  # json_data = {\"\":[],\n",
        "  #             \"video-id\":[],\n",
        "  #             \"fold-ind\":[],\n",
        "  #             \"startphrase\":[],\n",
        "  #             \"sent1\":[],\n",
        "  #             \"sent2\":[],\n",
        "  #             \"gold-source\":[],\n",
        "  #             \"ending0\":[],\n",
        "  #             \"ending1\":[],\n",
        "  #             \"ending2\":[],\n",
        "  #             \"ending3\":[],\n",
        "  #             \"label\":[]\n",
        "  #             }\n",
        "  for i in range(len(method['steps'])):\n",
        "    for j in range(len(method['steps'])):\n",
        "      if i<j:\n",
        "        step1 = method['steps'][i]['headline']\n",
        "        step2 = method['steps'][j]['headline']\n",
        "        # print(step1,step2)\n",
        "        count = count+1\n",
        "        temp_json = {}\n",
        "        temp_json[\"\"] = (count)\n",
        "        temp_json[\"video-id\"] = (\"xxx\")\n",
        "        temp_json[\"fold-ind\"] = (count)\n",
        "        temp_json[\"startphrase\"] = (\"xxx\")\n",
        "        temp_json[\"sent1\"] = (\"xxx\")\n",
        "        temp_json[\"sent2\"] = (common_goal)\n",
        "        temp_json[\"gold-source\"] = (\"xxx\")\n",
        "        temp_json[\"ending0\"] = (step1)\n",
        "        temp_json[\"ending1\"] = (step2)\n",
        "        temp_json[\"ending2\"] = (\"\")\n",
        "        temp_json[\"ending3\"] = (\"\")\n",
        "        temp_json[\"label\"] = (0)\n",
        "        json_data.append(temp_json)\n",
        "        # print(len(json_data))\n"
      ],
      "metadata": {
        "id": "xWFidyqEoe17"
      },
      "execution_count": null,
      "outputs": []
    },
    {
      "cell_type": "code",
      "source": [
        "import csv\n",
        "import json\n",
        "csv_file = \"val.csv\"\n",
        "\n",
        "# Open the CSV file in write mode\n",
        "with open(csv_file, 'w', newline='') as csvfile:\n",
        "    # Create a CSV writer\n",
        "    csv_writer = csv.writer(csvfile)\n",
        "\n",
        "    # Write the header (field names) to the CSV file\n",
        "    header = json_data[0].keys()\n",
        "    csv_writer.writerow(header)\n",
        "\n",
        "    # Write the data from the JSON to the CSV file\n",
        "    for row in json_data:\n",
        "        csv_writer.writerow(row.values())\n",
        "\n",
        "print(f\"Conversion complete. CSV file saved as '{csv_file}'.\")"
      ],
      "metadata": {
        "colab": {
          "base_uri": "https://localhost:8080/"
        },
        "id": "X9bSzruqoii8",
        "outputId": "1361c297-4665-47f0-b636-d83afc83b925"
      },
      "execution_count": null,
      "outputs": [
        {
          "output_type": "stream",
          "name": "stdout",
          "text": [
            "Conversion complete. CSV file saved as 'val.csv'.\n"
          ]
        }
      ]
    }
  ]
}